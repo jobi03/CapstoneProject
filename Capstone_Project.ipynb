{
 "cells": [
  {
   "cell_type": "markdown",
   "metadata": {},
   "source": [
    "<a id=\"overview\"></a>\n",
    "# Overview\n",
    "---"
   ]
  },
  {
   "cell_type": "markdown",
   "metadata": {
    "slideshow": {
     "slide_type": "slide"
    }
   },
   "source": [
    "On this project, I will work through a forecasting project, from loading the dataset and defining the problem to traning a final model and making predictions.\n",
    "\n",
    "The steps of this project that we will through are as follows.<br>\n",
    "<br>   1. [Business and Problem Understanding](#problem)\n",
    "<br>   2. [Data Understanding](#data)\n",
    "<br>   3. [Data Preparation](#dataprep)\n",
    "<br>   4. [Modelling](#model)\n",
    "<br>   6. [Evaluation](#evaluation)\n",
    "<br>   7. [Summary](#summary)\n",
    "\n",
    "This will be my template for working a time series prediction problem that I will use on my dataset.\n",
    "\n",
    "For the additional research, I made some [Sentiment Analysis](#sentiment) for the client."
   ]
  },
  {
   "cell_type": "markdown",
   "metadata": {},
   "source": [
    "<a id=\"problem\"></a>\n",
    "# 1. Business and Problem Understanding\n",
    "---"
   ]
  },
  {
   "cell_type": "markdown",
   "metadata": {},
   "source": [
    "### About the Client\n",
    "\n",
    "The client is a Business student that have plans to open a Hairdressing Salon at Sydenham. Sydenham has a mixture of residential and industrial developments. A very small group of shops is located around the intersection of Unwins Bridge Road and Railway Road, close to Sydenham railway station. In the 2016 Census, there were 1,145 people in Sydenham. 51.9% of people were born in Australia and 51.0% of people only spoke English at home."
   ]
  },
  {
   "cell_type": "markdown",
   "metadata": {},
   "source": [
    "### Problem Statement\n",
    "\n",
    "The client did some researches on his Business plan and approached me as a Data Scientist can predict the population of the target customers at Sydenham, Marrickville, Tempe and St Peters on the next few years.\n",
    "\n",
    "The dataset given provides the number of population of the target customers (Male Age 60+, Female Age 60+,  Professionals, Managers, Community and Personal Service Workers, Clerical and Administrative workers and Sales Workers) from 2006, 2011 and 2016.\n"
   ]
  },
  {
   "cell_type": "markdown",
   "metadata": {},
   "source": [
    "<a id=\"data\"></a>[Top](#overview)\n",
    "# 2. Data Understanding\n",
    "---"
   ]
  },
  {
   "cell_type": "markdown",
   "metadata": {},
   "source": [
    "The dataset is credited to [Census from Australia Bureau of Statistics](http://www.abs.gov.au/websitedbs/D3310114.nsf/Home/Census?OpenDocument&ref=topBar)\n",
    ". For us to predict next year we need the data to have yearly observations. From 2006 to 2016 observations will be used to validate the final model."
   ]
  },
  {
   "cell_type": "code",
   "execution_count": 1,
   "metadata": {
    "collapsed": true
   },
   "outputs": [],
   "source": [
    "import pandas as pd\n",
    "import numpy as np\n",
    "import matplotlib.pyplot as plt\n",
    "from sklearn.linear_model import LinearRegression\n",
    "from sklearn.model_selection import train_test_split\n",
    "from sklearn.metrics import confusion_matrix\n",
    "%matplotlib inline"
   ]
  },
  {
   "cell_type": "code",
   "execution_count": 2,
   "metadata": {},
   "outputs": [
    {
     "data": {
      "text/html": [
       "<div>\n",
       "<style>\n",
       "    .dataframe thead tr:only-child th {\n",
       "        text-align: right;\n",
       "    }\n",
       "\n",
       "    .dataframe thead th {\n",
       "        text-align: left;\n",
       "    }\n",
       "\n",
       "    .dataframe tbody tr th {\n",
       "        vertical-align: top;\n",
       "    }\n",
       "</style>\n",
       "<table border=\"1\" class=\"dataframe\">\n",
       "  <thead>\n",
       "    <tr style=\"text-align: right;\">\n",
       "      <th></th>\n",
       "      <th>Location</th>\n",
       "      <th>Male_age_60+</th>\n",
       "      <th>Female_age_60+</th>\n",
       "      <th>Professionals</th>\n",
       "      <th>Managers</th>\n",
       "      <th>Community_and personal_service_workers</th>\n",
       "      <th>Clerical_and_administrative_workers</th>\n",
       "      <th>Sales_Workers</th>\n",
       "      <th>Total</th>\n",
       "    </tr>\n",
       "    <tr>\n",
       "      <th>Year</th>\n",
       "      <th></th>\n",
       "      <th></th>\n",
       "      <th></th>\n",
       "      <th></th>\n",
       "      <th></th>\n",
       "      <th></th>\n",
       "      <th></th>\n",
       "      <th></th>\n",
       "      <th></th>\n",
       "    </tr>\n",
       "  </thead>\n",
       "  <tbody>\n",
       "    <tr>\n",
       "      <th>2016-01-01</th>\n",
       "      <td>Sydenham</td>\n",
       "      <td>162</td>\n",
       "      <td>206</td>\n",
       "      <td>162</td>\n",
       "      <td>86</td>\n",
       "      <td>73</td>\n",
       "      <td>75</td>\n",
       "      <td>62</td>\n",
       "      <td>826</td>\n",
       "    </tr>\n",
       "    <tr>\n",
       "      <th>2016-01-01</th>\n",
       "      <td>Marrickville</td>\n",
       "      <td>3780</td>\n",
       "      <td>4423</td>\n",
       "      <td>4769</td>\n",
       "      <td>1855</td>\n",
       "      <td>1320</td>\n",
       "      <td>1791</td>\n",
       "      <td>1078</td>\n",
       "      <td>19016</td>\n",
       "    </tr>\n",
       "    <tr>\n",
       "      <th>2016-01-01</th>\n",
       "      <td>St Peters</td>\n",
       "      <td>336</td>\n",
       "      <td>298</td>\n",
       "      <td>727</td>\n",
       "      <td>329</td>\n",
       "      <td>173</td>\n",
       "      <td>295</td>\n",
       "      <td>143</td>\n",
       "      <td>2301</td>\n",
       "    </tr>\n",
       "    <tr>\n",
       "      <th>2016-01-01</th>\n",
       "      <td>Tempe</td>\n",
       "      <td>570</td>\n",
       "      <td>575</td>\n",
       "      <td>514</td>\n",
       "      <td>273</td>\n",
       "      <td>158</td>\n",
       "      <td>291</td>\n",
       "      <td>137</td>\n",
       "      <td>2518</td>\n",
       "    </tr>\n",
       "    <tr>\n",
       "      <th>2011-01-01</th>\n",
       "      <td>Sydenham</td>\n",
       "      <td>125</td>\n",
       "      <td>138</td>\n",
       "      <td>128</td>\n",
       "      <td>69</td>\n",
       "      <td>56</td>\n",
       "      <td>91</td>\n",
       "      <td>56</td>\n",
       "      <td>663</td>\n",
       "    </tr>\n",
       "  </tbody>\n",
       "</table>\n",
       "</div>"
      ],
      "text/plain": [
       "                Location  Male_age_60+  Female_age_60+  Professionals  \\\n",
       "Year                                                                    \n",
       "2016-01-01      Sydenham           162             206            162   \n",
       "2016-01-01  Marrickville          3780            4423           4769   \n",
       "2016-01-01     St Peters           336             298            727   \n",
       "2016-01-01         Tempe           570             575            514   \n",
       "2011-01-01      Sydenham           125             138            128   \n",
       "\n",
       "            Managers  Community_and personal_service_workers  \\\n",
       "Year                                                           \n",
       "2016-01-01        86                                      73   \n",
       "2016-01-01      1855                                    1320   \n",
       "2016-01-01       329                                     173   \n",
       "2016-01-01       273                                     158   \n",
       "2011-01-01        69                                      56   \n",
       "\n",
       "            Clerical_and_administrative_workers  Sales_Workers  Total  \n",
       "Year                                                                   \n",
       "2016-01-01                                   75             62    826  \n",
       "2016-01-01                                 1791           1078  19016  \n",
       "2016-01-01                                  295            143   2301  \n",
       "2016-01-01                                  291            137   2518  \n",
       "2011-01-01                                   91             56    663  "
      ]
     },
     "execution_count": 2,
     "metadata": {},
     "output_type": "execute_result"
    }
   ],
   "source": [
    "#Load the data and set the Year as the index and as date datatypes\n",
    "df = pd.read_csv('Census_Data.csv',index_col='Year',parse_dates=['Year'])\n",
    "df.dropna(inplace=True)\n",
    "df.head()"
   ]
  },
  {
   "cell_type": "code",
   "execution_count": 3,
   "metadata": {},
   "outputs": [
    {
     "data": {
      "text/html": [
       "\n",
       "<div class='tableauPlaceholder' id='viz1516712466188' style='position: relative'><noscript><a href='#'><img alt='Target Customer&#39;s Population ' src='https:&#47;&#47;public.tableau.com&#47;static&#47;images&#47;TC&#47;TCP&#47;Sheet1&#47;1_rss.png' style='border: none' /></a></noscript><object class='tableauViz'  style='display:none;'><param name='host_url' value='https%3A%2F%2Fpublic.tableau.com%2F' /> <param name='embed_code_version' value='3' /> <param name='site_root' value='' /><param name='name' value='TCP&#47;Sheet1' /><param name='tabs' value='no' /><param name='toolbar' value='yes' /><param name='static_image' value='https:&#47;&#47;public.tableau.com&#47;static&#47;images&#47;TC&#47;TCP&#47;Sheet1&#47;1.png' /> <param name='animate_transition' value='yes' /><param name='display_static_image' value='yes' /><param name='display_spinner' value='yes' /><param name='display_overlay' value='yes' /><param name='display_count' value='yes' /></object></div>                <script type='text/javascript'>                    var divElement = document.getElementById('viz1516712466188');                    var vizElement = divElement.getElementsByTagName('object')[0];                    vizElement.style.width='100%';vizElement.style.height=(divElement.offsetWidth*0.75)+'px';                    var scriptElement = document.createElement('script');                    scriptElement.src = 'https://public.tableau.com/javascripts/api/viz_v1.js';                    vizElement.parentNode.insertBefore(scriptElement, vizElement);                </script>"
      ],
      "text/plain": [
       "<IPython.core.display.HTML object>"
      ]
     },
     "metadata": {},
     "output_type": "display_data"
    }
   ],
   "source": [
    "%%HTML\n",
    "\n",
    "<div class='tableauPlaceholder' id='viz1516712466188' style='position: relative'><noscript><a href='#'><img alt='Target Customer&#39;s Population ' src='https:&#47;&#47;public.tableau.com&#47;static&#47;images&#47;TC&#47;TCP&#47;Sheet1&#47;1_rss.png' style='border: none' /></a></noscript><object class='tableauViz'  style='display:none;'><param name='host_url' value='https%3A%2F%2Fpublic.tableau.com%2F' /> <param name='embed_code_version' value='3' /> <param name='site_root' value='' /><param name='name' value='TCP&#47;Sheet1' /><param name='tabs' value='no' /><param name='toolbar' value='yes' /><param name='static_image' value='https:&#47;&#47;public.tableau.com&#47;static&#47;images&#47;TC&#47;TCP&#47;Sheet1&#47;1.png' /> <param name='animate_transition' value='yes' /><param name='display_static_image' value='yes' /><param name='display_spinner' value='yes' /><param name='display_overlay' value='yes' /><param name='display_count' value='yes' /></object></div>                <script type='text/javascript'>                    var divElement = document.getElementById('viz1516712466188');                    var vizElement = divElement.getElementsByTagName('object')[0];                    vizElement.style.width='100%';vizElement.style.height=(divElement.offsetWidth*0.75)+'px';                    var scriptElement = document.createElement('script');                    scriptElement.src = 'https://public.tableau.com/javascripts/api/viz_v1.js';                    vizElement.parentNode.insertBefore(scriptElement, vizElement);                </script>"
   ]
  },
  {
   "cell_type": "markdown",
   "metadata": {},
   "source": [
    "The dataset is not current and with gaps of 5 years. This means that we need to fill in data to validate the model. As the year column is integer I changed it to date datatypes and set it as the index."
   ]
  },
  {
   "cell_type": "code",
   "execution_count": 4,
   "metadata": {},
   "outputs": [
    {
     "data": {
      "text/plain": [
       "(12, 9)"
      ]
     },
     "execution_count": 4,
     "metadata": {},
     "output_type": "execute_result"
    }
   ],
   "source": [
    "df.shape"
   ]
  },
  {
   "cell_type": "markdown",
   "metadata": {},
   "source": [
    "There are 12 observations only and 9 columns which indicates the clients target types of customer. Mrrickville have a high number of Professionals in 2016"
   ]
  },
  {
   "cell_type": "markdown",
   "metadata": {},
   "source": [
    "<a id=\"dataprep\"></a>[Top](#overview)\n",
    "# 3. Data Preparation\n",
    "---"
   ]
  },
  {
   "cell_type": "markdown",
   "metadata": {},
   "source": [
    "For us to predict the next years of target customer's population we only need the total of it and left only Years, Locations and Total Target."
   ]
  },
  {
   "cell_type": "code",
   "execution_count": 5,
   "metadata": {
    "collapsed": true
   },
   "outputs": [],
   "source": [
    "#drop the column Total\n",
    "df.drop('Total', axis=1,inplace=True)\n",
    "#make a new Total column\n",
    "df['Total_Target'] = df['Male_age_60+']+df['Female_age_60+']+df['Professionals'] + df['Managers'] + df['Community_and personal_service_workers'] + df['Clerical_and_administrative_workers'] + df['Sales_Workers']"
   ]
  },
  {
   "cell_type": "markdown",
   "metadata": {},
   "source": [
    "I will seperate the data per Location"
   ]
  },
  {
   "cell_type": "code",
   "execution_count": 6,
   "metadata": {
    "collapsed": true
   },
   "outputs": [],
   "source": [
    "#sydenham\n",
    "sydenham = df[df.Location.values == 'Sydenham'].sort_index()\n",
    "sydenham = sydenham[['Total_Target']]\n",
    "#marrickville\n",
    "marrickville = df[df.Location.values == 'Marrickville'].sort_index()\n",
    "marrickville = marrickville[['Total_Target']]\n",
    "#tempe\n",
    "tempe = df[df.Location.values == 'Tempe'].sort_index()\n",
    "tempe = tempe[['Total_Target']]\n",
    "#stpeters\n",
    "stpeters = df[df.Location.values == 'St Peters'].sort_index()\n",
    "stpeters = stpeters[['Total_Target']]"
   ]
  },
  {
   "cell_type": "code",
   "execution_count": 7,
   "metadata": {},
   "outputs": [
    {
     "data": {
      "text/html": [
       "<div>\n",
       "<style>\n",
       "    .dataframe thead tr:only-child th {\n",
       "        text-align: right;\n",
       "    }\n",
       "\n",
       "    .dataframe thead th {\n",
       "        text-align: left;\n",
       "    }\n",
       "\n",
       "    .dataframe tbody tr th {\n",
       "        vertical-align: top;\n",
       "    }\n",
       "</style>\n",
       "<table border=\"1\" class=\"dataframe\">\n",
       "  <thead>\n",
       "    <tr style=\"text-align: right;\">\n",
       "      <th></th>\n",
       "      <th>Total_Target</th>\n",
       "    </tr>\n",
       "    <tr>\n",
       "      <th>Year</th>\n",
       "      <th></th>\n",
       "    </tr>\n",
       "  </thead>\n",
       "  <tbody>\n",
       "    <tr>\n",
       "      <th>2006-01-01</th>\n",
       "      <td>557</td>\n",
       "    </tr>\n",
       "    <tr>\n",
       "      <th>2011-01-01</th>\n",
       "      <td>663</td>\n",
       "    </tr>\n",
       "    <tr>\n",
       "      <th>2016-01-01</th>\n",
       "      <td>826</td>\n",
       "    </tr>\n",
       "  </tbody>\n",
       "</table>\n",
       "</div>"
      ],
      "text/plain": [
       "            Total_Target\n",
       "Year                    \n",
       "2006-01-01           557\n",
       "2011-01-01           663\n",
       "2016-01-01           826"
      ]
     },
     "execution_count": 7,
     "metadata": {},
     "output_type": "execute_result"
    }
   ],
   "source": [
    "sydenham"
   ]
  },
  {
   "cell_type": "markdown",
   "metadata": {},
   "source": [
    "As you can see we only have 3 years and with 5 years gap. I will treated the gaps as missing data and interpolate those gaps."
   ]
  },
  {
   "cell_type": "code",
   "execution_count": 8,
   "metadata": {
    "collapsed": true
   },
   "outputs": [],
   "source": [
    "#this will interpolate the gaps every 5 years and save as csv\n",
    "def fill_gaps(data,file):\n",
    "    dt = pd.date_range('01-01-2006','01-01-2016',freq='AS')\n",
    "    idx = pd.DatetimeIndex(dt)\n",
    "    data = data.reindex(idx)\n",
    "    data = data.interpolate(method='time')\n",
    "    data.index = data.index.year\n",
    "    data.to_csv(file)\n",
    "    return data"
   ]
  },
  {
   "cell_type": "code",
   "execution_count": 9,
   "metadata": {},
   "outputs": [
    {
     "data": {
      "text/html": [
       "<div>\n",
       "<style>\n",
       "    .dataframe thead tr:only-child th {\n",
       "        text-align: right;\n",
       "    }\n",
       "\n",
       "    .dataframe thead th {\n",
       "        text-align: left;\n",
       "    }\n",
       "\n",
       "    .dataframe tbody tr th {\n",
       "        vertical-align: top;\n",
       "    }\n",
       "</style>\n",
       "<table border=\"1\" class=\"dataframe\">\n",
       "  <thead>\n",
       "    <tr style=\"text-align: right;\">\n",
       "      <th></th>\n",
       "      <th>Total_Target</th>\n",
       "    </tr>\n",
       "    <tr>\n",
       "      <th>Year</th>\n",
       "      <th></th>\n",
       "    </tr>\n",
       "  </thead>\n",
       "  <tbody>\n",
       "    <tr>\n",
       "      <th>2006-01-01</th>\n",
       "      <td>557</td>\n",
       "    </tr>\n",
       "    <tr>\n",
       "      <th>2011-01-01</th>\n",
       "      <td>663</td>\n",
       "    </tr>\n",
       "    <tr>\n",
       "      <th>2016-01-01</th>\n",
       "      <td>826</td>\n",
       "    </tr>\n",
       "  </tbody>\n",
       "</table>\n",
       "</div>"
      ],
      "text/plain": [
       "            Total_Target\n",
       "Year                    \n",
       "2006-01-01           557\n",
       "2011-01-01           663\n",
       "2016-01-01           826"
      ]
     },
     "execution_count": 9,
     "metadata": {},
     "output_type": "execute_result"
    }
   ],
   "source": [
    "sydenham"
   ]
  },
  {
   "cell_type": "code",
   "execution_count": 10,
   "metadata": {},
   "outputs": [
    {
     "data": {
      "text/html": [
       "<div>\n",
       "<style>\n",
       "    .dataframe thead tr:only-child th {\n",
       "        text-align: right;\n",
       "    }\n",
       "\n",
       "    .dataframe thead th {\n",
       "        text-align: left;\n",
       "    }\n",
       "\n",
       "    .dataframe tbody tr th {\n",
       "        vertical-align: top;\n",
       "    }\n",
       "</style>\n",
       "<table border=\"1\" class=\"dataframe\">\n",
       "  <thead>\n",
       "    <tr style=\"text-align: right;\">\n",
       "      <th></th>\n",
       "      <th>Total_Target</th>\n",
       "    </tr>\n",
       "  </thead>\n",
       "  <tbody>\n",
       "    <tr>\n",
       "      <th>2006</th>\n",
       "      <td>557.000000</td>\n",
       "    </tr>\n",
       "    <tr>\n",
       "      <th>2007</th>\n",
       "      <td>578.188390</td>\n",
       "    </tr>\n",
       "    <tr>\n",
       "      <th>2008</th>\n",
       "      <td>599.376780</td>\n",
       "    </tr>\n",
       "    <tr>\n",
       "      <th>2009</th>\n",
       "      <td>620.623220</td>\n",
       "    </tr>\n",
       "    <tr>\n",
       "      <th>2010</th>\n",
       "      <td>641.811610</td>\n",
       "    </tr>\n",
       "    <tr>\n",
       "      <th>2011</th>\n",
       "      <td>663.000000</td>\n",
       "    </tr>\n",
       "    <tr>\n",
       "      <th>2012</th>\n",
       "      <td>695.582147</td>\n",
       "    </tr>\n",
       "    <tr>\n",
       "      <th>2013</th>\n",
       "      <td>728.253560</td>\n",
       "    </tr>\n",
       "    <tr>\n",
       "      <th>2014</th>\n",
       "      <td>760.835706</td>\n",
       "    </tr>\n",
       "    <tr>\n",
       "      <th>2015</th>\n",
       "      <td>793.417853</td>\n",
       "    </tr>\n",
       "    <tr>\n",
       "      <th>2016</th>\n",
       "      <td>826.000000</td>\n",
       "    </tr>\n",
       "  </tbody>\n",
       "</table>\n",
       "</div>"
      ],
      "text/plain": [
       "      Total_Target\n",
       "2006    557.000000\n",
       "2007    578.188390\n",
       "2008    599.376780\n",
       "2009    620.623220\n",
       "2010    641.811610\n",
       "2011    663.000000\n",
       "2012    695.582147\n",
       "2013    728.253560\n",
       "2014    760.835706\n",
       "2015    793.417853\n",
       "2016    826.000000"
      ]
     },
     "execution_count": 10,
     "metadata": {},
     "output_type": "execute_result"
    }
   ],
   "source": [
    "sydenham = fill_gaps(sydenham,'Sydenham.csv')\n",
    "sydenham"
   ]
  },
  {
   "cell_type": "code",
   "execution_count": 11,
   "metadata": {
    "collapsed": true
   },
   "outputs": [],
   "source": [
    "marrickville = fill_gaps(marrickville,'Marrickville.csv')\n",
    "tempe = fill_gaps(tempe,'Tempe.csv')\n",
    "stpeters = fill_gaps(stpeters,'St Peters.csv')"
   ]
  },
  {
   "cell_type": "markdown",
   "metadata": {},
   "source": [
    "<a id=\"model\"></a>[Top](#overview)\n",
    "# 4. Modelling\n",
    "---"
   ]
  },
  {
   "cell_type": "markdown",
   "metadata": {},
   "source": [
    "Im going to use Linear Regression as the data are linear. Load the dataset and split into two, one for model train and the other for test. This will be the baseline prediction method and performance, then start digging into the data."
   ]
  },
  {
   "cell_type": "code",
   "execution_count": 12,
   "metadata": {
    "collapsed": true
   },
   "outputs": [],
   "source": [
    "#Linear Regression for split data\n",
    "def linear_regression(dataset,a):\n",
    "    X = dataset.iloc[:, :-1].values\n",
    "    y = dataset.iloc[:, 1].values\n",
    "\n",
    "    X_train, X_test, y_train, y_test = train_test_split(X, y, test_size = 1/3, random_state = 0)\n",
    "    \n",
    "    regressor = LinearRegression()\n",
    "    \n",
    "    if a == 'train':\n",
    "        regressor.fit(X_train, y_train)\n",
    "        y_pred = regressor.predict(X_test)\n",
    "        score = regressor.score(X_train, y_train)\n",
    "        \n",
    "        plt.scatter(X_train, y_train, color = 'red')\n",
    "        plt.plot(X_train, regressor.predict(X_train), color = 'blue')\n",
    "        plt.title('Census (Training set)')\n",
    "        \n",
    "    if a == 'test':\n",
    "        regressor.fit(X_test, y_test)\n",
    "        y_pred = regressor.predict(X_test)\n",
    "        score = regressor.score(X_test, y_test)\n",
    "        \n",
    "        plt.scatter(X_test, y_test, color = 'red')\n",
    "        plt.plot(X_test, regressor.predict(X_test), color = 'blue')\n",
    "        plt.title('Census (Test set)')\n",
    "\n",
    "    plt.xlabel('Years')\n",
    "    plt.ylabel('Total Target')\n",
    "    plt.show()\n",
    "    return a + ' Reg. Score: '+ str(score)"
   ]
  },
  {
   "cell_type": "markdown",
   "metadata": {},
   "source": [
    "### Predicting the split datas"
   ]
  },
  {
   "cell_type": "code",
   "execution_count": 13,
   "metadata": {},
   "outputs": [
    {
     "data": {
      "image/png": "[encoded data removed]",
      "text/plain": [
       "<matplotlib.figure.Figure at 0x11315b588>"
      ]
     },
     "metadata": {},
     "output_type": "display_data"
    },
    {
     "data": {
      "text/plain": [
       "'train Reg. Score: 0.9894590712707553'"
      ]
     },
     "execution_count": 13,
     "metadata": {},
     "output_type": "execute_result"
    }
   ],
   "source": [
    "old_sydenham = pd.read_csv('Sydenham.csv')\n",
    "linear_regression(old_sydenham,'train')"
   ]
  },
  {
   "cell_type": "code",
   "execution_count": 14,
   "metadata": {},
   "outputs": [
    {
     "data": {
      "image/png": "[encoded data removed]",
      "text/plain": [
       "<matplotlib.figure.Figure at 0x11315b438>"
      ]
     },
     "metadata": {},
     "output_type": "display_data"
    },
    {
     "data": {
      "text/plain": [
       "'test Reg. Score: 0.9966180252323654'"
      ]
     },
     "execution_count": 14,
     "metadata": {},
     "output_type": "execute_result"
    }
   ],
   "source": [
    "linear_regression(old_sydenham,'test')"
   ]
  },
  {
   "cell_type": "markdown",
   "metadata": {},
   "source": [
    "Sydenham data has 98% score its so close to the baseline. Sydenham has always the lowest population compare to other areas although it rise but still lowest than the other area."
   ]
  },
  {
   "cell_type": "code",
   "execution_count": 15,
   "metadata": {},
   "outputs": [
    {
     "data": {
      "image/png": "[encoded data removed]",
      "text/plain": [
       "<matplotlib.figure.Figure at 0x1a21106588>"
      ]
     },
     "metadata": {},
     "output_type": "display_data"
    },
    {
     "data": {
      "text/plain": [
       "'train Reg. Score: 0.9932615027278053'"
      ]
     },
     "execution_count": 15,
     "metadata": {},
     "output_type": "execute_result"
    }
   ],
   "source": [
    "old_marrickville = pd.read_csv('Marrickville.csv')\n",
    "linear_regression(old_marrickville,'train')"
   ]
  },
  {
   "cell_type": "markdown",
   "metadata": {},
   "source": [
    "The Marrickville data is more closer to the baseline it has regressor of score 99% compare to Sydenham. Marrickville still way higher population than Marrickville but the flow of how the population rise almost same as Sydenham"
   ]
  },
  {
   "cell_type": "code",
   "execution_count": 16,
   "metadata": {},
   "outputs": [
    {
     "data": {
      "image/png": "[encoded data removed]",
      "text/plain": [
       "<matplotlib.figure.Figure at 0x1a21205a90>"
      ]
     },
     "metadata": {},
     "output_type": "display_data"
    },
    {
     "data": {
      "text/plain": [
       "'train Reg. Score: 0.9019274677330884'"
      ]
     },
     "execution_count": 16,
     "metadata": {},
     "output_type": "execute_result"
    }
   ],
   "source": [
    "old_tempe = pd.read_csv('Tempe.csv')\n",
    "linear_regression(old_tempe,'train')"
   ]
  },
  {
   "cell_type": "code",
   "execution_count": 17,
   "metadata": {},
   "outputs": [
    {
     "data": {
      "text/html": [
       "<div>\n",
       "<style>\n",
       "    .dataframe thead tr:only-child th {\n",
       "        text-align: right;\n",
       "    }\n",
       "\n",
       "    .dataframe thead th {\n",
       "        text-align: left;\n",
       "    }\n",
       "\n",
       "    .dataframe tbody tr th {\n",
       "        vertical-align: top;\n",
       "    }\n",
       "</style>\n",
       "<table border=\"1\" class=\"dataframe\">\n",
       "  <thead>\n",
       "    <tr style=\"text-align: right;\">\n",
       "      <th></th>\n",
       "      <th>Unnamed: 0</th>\n",
       "      <th>Total_Target</th>\n",
       "    </tr>\n",
       "  </thead>\n",
       "  <tbody>\n",
       "    <tr>\n",
       "      <th>0</th>\n",
       "      <td>2006</td>\n",
       "      <td>1834.000000</td>\n",
       "    </tr>\n",
       "    <tr>\n",
       "      <th>1</th>\n",
       "      <td>2007</td>\n",
       "      <td>1862.384447</td>\n",
       "    </tr>\n",
       "    <tr>\n",
       "      <th>2</th>\n",
       "      <td>2008</td>\n",
       "      <td>1890.768894</td>\n",
       "    </tr>\n",
       "    <tr>\n",
       "      <th>3</th>\n",
       "      <td>2009</td>\n",
       "      <td>1919.231106</td>\n",
       "    </tr>\n",
       "    <tr>\n",
       "      <th>4</th>\n",
       "      <td>2010</td>\n",
       "      <td>1947.615553</td>\n",
       "    </tr>\n",
       "    <tr>\n",
       "      <th>5</th>\n",
       "      <td>2011</td>\n",
       "      <td>1976.000000</td>\n",
       "    </tr>\n",
       "    <tr>\n",
       "      <th>6</th>\n",
       "      <td>2012</td>\n",
       "      <td>2084.340635</td>\n",
       "    </tr>\n",
       "    <tr>\n",
       "      <th>7</th>\n",
       "      <td>2013</td>\n",
       "      <td>2192.978094</td>\n",
       "    </tr>\n",
       "    <tr>\n",
       "      <th>8</th>\n",
       "      <td>2014</td>\n",
       "      <td>2301.318729</td>\n",
       "    </tr>\n",
       "    <tr>\n",
       "      <th>9</th>\n",
       "      <td>2015</td>\n",
       "      <td>2409.659365</td>\n",
       "    </tr>\n",
       "    <tr>\n",
       "      <th>10</th>\n",
       "      <td>2016</td>\n",
       "      <td>2518.000000</td>\n",
       "    </tr>\n",
       "  </tbody>\n",
       "</table>\n",
       "</div>"
      ],
      "text/plain": [
       "    Unnamed: 0  Total_Target\n",
       "0         2006   1834.000000\n",
       "1         2007   1862.384447\n",
       "2         2008   1890.768894\n",
       "3         2009   1919.231106\n",
       "4         2010   1947.615553\n",
       "5         2011   1976.000000\n",
       "6         2012   2084.340635\n",
       "7         2013   2192.978094\n",
       "8         2014   2301.318729\n",
       "9         2015   2409.659365\n",
       "10        2016   2518.000000"
      ]
     },
     "execution_count": 17,
     "metadata": {},
     "output_type": "execute_result"
    }
   ],
   "source": [
    "old_tempe"
   ]
  },
  {
   "cell_type": "markdown",
   "metadata": {},
   "source": [
    "Tempe has the lowest score compare to the other four areas. It has 90% score. Since 2011 to 2016 the population of target custumers risen by 542."
   ]
  },
  {
   "cell_type": "code",
   "execution_count": 18,
   "metadata": {},
   "outputs": [
    {
     "data": {
      "image/png": "[encoded data removed]",
      "text/plain": [
       "<matplotlib.figure.Figure at 0x1a21106710>"
      ]
     },
     "metadata": {},
     "output_type": "display_data"
    },
    {
     "data": {
      "text/plain": [
       "'train Reg. Score: 0.9755411819335427'"
      ]
     },
     "execution_count": 18,
     "metadata": {},
     "output_type": "execute_result"
    }
   ],
   "source": [
    "old_stpeters = pd.read_csv('St Peters.csv')\n",
    "linear_regression(old_stpeters,'train')"
   ]
  },
  {
   "cell_type": "markdown",
   "metadata": {},
   "source": [
    "St. Peters has 97% score and also close to the baseline but still higher compare to Sydenham."
   ]
  },
  {
   "cell_type": "markdown",
   "metadata": {},
   "source": [
    "### Predicting the next 10 years"
   ]
  },
  {
   "cell_type": "markdown",
   "metadata": {},
   "source": [
    "As our scores are doing well we going to use this model to predict the next 10 years."
   ]
  },
  {
   "cell_type": "code",
   "execution_count": 19,
   "metadata": {
    "collapsed": true
   },
   "outputs": [],
   "source": [
    "#Will create new dataframe for next years\n",
    "def pred_yrs(dataset,ctr):\n",
    "    years = []\n",
    "    total = []\n",
    "\n",
    "    X = dataset.iloc[:, :-1].values\n",
    "    y = dataset.iloc[:, 1].values\n",
    "    regressor = LinearRegression()\n",
    "    regressor.fit(X, y)\n",
    "    \n",
    "    for ctr in range(1, ctr):\n",
    "        year = 2016 + ctr\n",
    "        years.append(year)\n",
    "        y_pred = regressor.predict(year)\n",
    "        total.append(y_pred)\n",
    "\n",
    "    df_new = pd.DataFrame()\n",
    "    df_new['Years'] = years\n",
    "    df_new['Total'] = total\n",
    "    return df_new"
   ]
  },
  {
   "cell_type": "code",
   "execution_count": 20,
   "metadata": {
    "collapsed": true
   },
   "outputs": [],
   "source": [
    "#will combine the old and new data\n",
    "def combine_data(old, new,file):\n",
    "    old = old.astype(int)\n",
    "    df1 = old.values\n",
    "    new.Total = new.Total.astype(int)\n",
    "    df2 = new.values\n",
    "    new_df = np.concatenate((df1,df2),axis=0)\n",
    "    new_data = pd.DataFrame(new_df,columns=['Years','Total_Target'])\n",
    "    new_data.to_csv(file)\n",
    "    new_data.index = new_data.Years\n",
    "    new_data.drop('Years',axis=1,inplace=True)\n",
    "    new_data.plot(kind='bar')\n",
    "    return new_data"
   ]
  },
  {
   "cell_type": "code",
   "execution_count": 21,
   "metadata": {},
   "outputs": [
    {
     "data": {
      "text/html": [
       "<div>\n",
       "<style>\n",
       "    .dataframe thead tr:only-child th {\n",
       "        text-align: right;\n",
       "    }\n",
       "\n",
       "    .dataframe thead th {\n",
       "        text-align: left;\n",
       "    }\n",
       "\n",
       "    .dataframe tbody tr th {\n",
       "        vertical-align: top;\n",
       "    }\n",
       "</style>\n",
       "<table border=\"1\" class=\"dataframe\">\n",
       "  <thead>\n",
       "    <tr style=\"text-align: right;\">\n",
       "      <th></th>\n",
       "      <th>Years</th>\n",
       "      <th>Total</th>\n",
       "    </tr>\n",
       "  </thead>\n",
       "  <tbody>\n",
       "    <tr>\n",
       "      <th>0</th>\n",
       "      <td>2017</td>\n",
       "      <td>[839.9713432241333]</td>\n",
       "    </tr>\n",
       "    <tr>\n",
       "      <th>1</th>\n",
       "      <td>2018</td>\n",
       "      <td>[866.8743054864099]</td>\n",
       "    </tr>\n",
       "    <tr>\n",
       "      <th>2</th>\n",
       "      <td>2019</td>\n",
       "      <td>[893.7772677486792]</td>\n",
       "    </tr>\n",
       "    <tr>\n",
       "      <th>3</th>\n",
       "      <td>2020</td>\n",
       "      <td>[920.6802300109557]</td>\n",
       "    </tr>\n",
       "    <tr>\n",
       "      <th>4</th>\n",
       "      <td>2021</td>\n",
       "      <td>[947.583192273225]</td>\n",
       "    </tr>\n",
       "    <tr>\n",
       "      <th>5</th>\n",
       "      <td>2022</td>\n",
       "      <td>[974.4861545354943]</td>\n",
       "    </tr>\n",
       "    <tr>\n",
       "      <th>6</th>\n",
       "      <td>2023</td>\n",
       "      <td>[1001.3891167977708]</td>\n",
       "    </tr>\n",
       "    <tr>\n",
       "      <th>7</th>\n",
       "      <td>2024</td>\n",
       "      <td>[1028.2920790600401]</td>\n",
       "    </tr>\n",
       "    <tr>\n",
       "      <th>8</th>\n",
       "      <td>2025</td>\n",
       "      <td>[1055.1950413223167]</td>\n",
       "    </tr>\n",
       "  </tbody>\n",
       "</table>\n",
       "</div>"
      ],
      "text/plain": [
       "   Years                 Total\n",
       "0   2017   [839.9713432241333]\n",
       "1   2018   [866.8743054864099]\n",
       "2   2019   [893.7772677486792]\n",
       "3   2020   [920.6802300109557]\n",
       "4   2021    [947.583192273225]\n",
       "5   2022   [974.4861545354943]\n",
       "6   2023  [1001.3891167977708]\n",
       "7   2024  [1028.2920790600401]\n",
       "8   2025  [1055.1950413223167]"
      ]
     },
     "execution_count": 21,
     "metadata": {},
     "output_type": "execute_result"
    }
   ],
   "source": [
    "#the next 10 years prediction\n",
    "new_sydenham = pred_yrs(old_sydenham,10)\n",
    "new_sydenham"
   ]
  },
  {
   "cell_type": "code",
   "execution_count": 22,
   "metadata": {},
   "outputs": [
    {
     "data": {
      "image/png": "[encoded data removed]",
      "text/plain": [
       "<matplotlib.figure.Figure at 0x1a211222b0>"
      ]
     },
     "metadata": {},
     "output_type": "display_data"
    }
   ],
   "source": [
    "#combine the old data to next 10 years data\n",
    "sydenham_new = combine_data(old_sydenham, new_sydenham,'Sydenham_new.csv')"
   ]
  },
  {
   "cell_type": "code",
   "execution_count": 23,
   "metadata": {},
   "outputs": [
    {
     "data": {
      "image/png": "[encoded data removed]",
      "text/plain": [
       "<matplotlib.figure.Figure at 0x1a212b7748>"
      ]
     },
     "metadata": {},
     "output_type": "display_data"
    }
   ],
   "source": [
    "#the next 10 years prediction\n",
    "new_marrickville = pred_yrs(old_marrickville,10)\n",
    "#combine the old data to next 10 years data\n",
    "marrickville_new = combine_data(old_marrickville, new_marrickville,'Marrickville_new.csv')"
   ]
  },
  {
   "cell_type": "code",
   "execution_count": 24,
   "metadata": {},
   "outputs": [
    {
     "data": {
      "image/png": "[encoded data removed]",
      "text/plain": [
       "<matplotlib.figure.Figure at 0x1a2178a198>"
      ]
     },
     "metadata": {},
     "output_type": "display_data"
    }
   ],
   "source": [
    "#the next 10 years prediction\n",
    "new_tempe = pred_yrs(old_tempe,10)\n",
    "#combine the old data to next 10 years data\n",
    "tempe_new = combine_data(old_tempe, new_tempe,'Tempe_new.csv')"
   ]
  },
  {
   "cell_type": "code",
   "execution_count": 25,
   "metadata": {},
   "outputs": [
    {
     "data": {
      "image/png": "[encoded data removed]",
      "text/plain": [
       "<matplotlib.figure.Figure at 0x1a217eb898>"
      ]
     },
     "metadata": {},
     "output_type": "display_data"
    }
   ],
   "source": [
    "#the next 10 years prediction\n",
    "new_stpeters = pred_yrs(old_stpeters,10)\n",
    "#combine the old data to next 10 years data\n",
    "stpeters_new = combine_data(old_stpeters, new_stpeters,'St Peters_new.csv')"
   ]
  },
  {
   "cell_type": "markdown",
   "metadata": {},
   "source": [
    "<a id=\"evaluation\"></a>[Top](#overview)\n",
    "# 5. Evaluation\n",
    "---"
   ]
  },
  {
   "cell_type": "markdown",
   "metadata": {},
   "source": [
    "As we predicted the next 10 years of target customer's population, let's see what it will be the score if it improved."
   ]
  },
  {
   "cell_type": "code",
   "execution_count": 26,
   "metadata": {},
   "outputs": [
    {
     "data": {
      "text/html": [
       "<div>\n",
       "<style>\n",
       "    .dataframe thead tr:only-child th {\n",
       "        text-align: right;\n",
       "    }\n",
       "\n",
       "    .dataframe thead th {\n",
       "        text-align: left;\n",
       "    }\n",
       "\n",
       "    .dataframe tbody tr th {\n",
       "        vertical-align: top;\n",
       "    }\n",
       "</style>\n",
       "<table border=\"1\" class=\"dataframe\">\n",
       "  <thead>\n",
       "    <tr style=\"text-align: right;\">\n",
       "      <th></th>\n",
       "      <th>Years</th>\n",
       "      <th>Total_Target</th>\n",
       "    </tr>\n",
       "  </thead>\n",
       "  <tbody>\n",
       "    <tr>\n",
       "      <th>0</th>\n",
       "      <td>2006</td>\n",
       "      <td>557</td>\n",
       "    </tr>\n",
       "    <tr>\n",
       "      <th>1</th>\n",
       "      <td>2007</td>\n",
       "      <td>578</td>\n",
       "    </tr>\n",
       "    <tr>\n",
       "      <th>2</th>\n",
       "      <td>2008</td>\n",
       "      <td>599</td>\n",
       "    </tr>\n",
       "    <tr>\n",
       "      <th>3</th>\n",
       "      <td>2009</td>\n",
       "      <td>620</td>\n",
       "    </tr>\n",
       "    <tr>\n",
       "      <th>4</th>\n",
       "      <td>2010</td>\n",
       "      <td>641</td>\n",
       "    </tr>\n",
       "  </tbody>\n",
       "</table>\n",
       "</div>"
      ],
      "text/plain": [
       "   Years  Total_Target\n",
       "0   2006           557\n",
       "1   2007           578\n",
       "2   2008           599\n",
       "3   2009           620\n",
       "4   2010           641"
      ]
     },
     "execution_count": 26,
     "metadata": {},
     "output_type": "execute_result"
    }
   ],
   "source": [
    "sydenham_new = pd.read_csv('Sydenham_new.csv').drop('Unnamed: 0',axis=1)\n",
    "sydenham_new.head()"
   ]
  },
  {
   "cell_type": "code",
   "execution_count": 27,
   "metadata": {},
   "outputs": [
    {
     "data": {
      "image/png": "[encoded data removed]",
      "text/plain": [
       "<matplotlib.figure.Figure at 0x1a217f4b38>"
      ]
     },
     "metadata": {},
     "output_type": "display_data"
    },
    {
     "data": {
      "text/plain": [
       "'train Reg. Score: 0.9976613240678391'"
      ]
     },
     "execution_count": 27,
     "metadata": {},
     "output_type": "execute_result"
    }
   ],
   "source": [
    "linear_regression(sydenham_new,'train')"
   ]
  },
  {
   "cell_type": "code",
   "execution_count": 28,
   "metadata": {},
   "outputs": [
    {
     "data": {
      "image/png": "[encoded data removed]",
      "text/plain": [
       "<matplotlib.figure.Figure at 0x1a18afbc50>"
      ]
     },
     "metadata": {},
     "output_type": "display_data"
    },
    {
     "data": {
      "text/plain": [
       "'train Reg. Score: 0.9984824323084335'"
      ]
     },
     "execution_count": 28,
     "metadata": {},
     "output_type": "execute_result"
    }
   ],
   "source": [
    "marrickville_new = pd.read_csv('Marrickville_new.csv').drop('Unnamed: 0',axis=1)\n",
    "linear_regression(marrickville_new,'train')"
   ]
  },
  {
   "cell_type": "code",
   "execution_count": 29,
   "metadata": {},
   "outputs": [
    {
     "data": {
      "image/png": "[encoded data removed]",
      "text/plain": [
       "<matplotlib.figure.Figure at 0x1a21aac320>"
      ]
     },
     "metadata": {},
     "output_type": "display_data"
    },
    {
     "data": {
      "text/plain": [
       "'train Reg. Score: 0.982707756894517'"
      ]
     },
     "execution_count": 29,
     "metadata": {},
     "output_type": "execute_result"
    }
   ],
   "source": [
    "tempe_new = pd.read_csv('Tempe_new.csv').drop('Unnamed: 0',axis=1)\n",
    "linear_regression(tempe_new,'train')"
   ]
  },
  {
   "cell_type": "code",
   "execution_count": 30,
   "metadata": {},
   "outputs": [
    {
     "data": {
      "image/png": "[encoded data removed]",
      "text/plain": [
       "<matplotlib.figure.Figure at 0x1a21c58be0>"
      ]
     },
     "metadata": {},
     "output_type": "display_data"
    },
    {
     "data": {
      "text/plain": [
       "'train Reg. Score: 0.9949887206382461'"
      ]
     },
     "execution_count": 30,
     "metadata": {},
     "output_type": "execute_result"
    }
   ],
   "source": [
    "stpeters_new = pd.read_csv('St Peters_new.csv').drop('Unnamed: 0',axis=1)\n",
    "linear_regression(stpeters_new,'train')"
   ]
  },
  {
   "cell_type": "markdown",
   "metadata": {},
   "source": [
    "Only Tempe got 98% score as the rest are 99%. The models are all did a good job and as the score so high I think theres no other model will be better than this."
   ]
  },
  {
   "cell_type": "markdown",
   "metadata": {},
   "source": [
    "### Combine all Cities together"
   ]
  },
  {
   "cell_type": "code",
   "execution_count": 31,
   "metadata": {
    "collapsed": true
   },
   "outputs": [],
   "source": [
    "def fill_location(data, place):\n",
    "    locations = []\n",
    "    location = place\n",
    "\n",
    "    for ctr in range(len(stpeters_new)):\n",
    "        locations.append(location)\n",
    "\n",
    "    data['Locations'] = locations"
   ]
  },
  {
   "cell_type": "code",
   "execution_count": 32,
   "metadata": {
    "collapsed": true
   },
   "outputs": [],
   "source": [
    "fill_location(sydenham_new, 'Sydenham')\n",
    "fill_location(marrickville_new, 'Marrickville')\n",
    "fill_location(tempe_new, 'Tempe')\n",
    "fill_location(stpeters_new, 'St Peters')"
   ]
  },
  {
   "cell_type": "code",
   "execution_count": 33,
   "metadata": {},
   "outputs": [
    {
     "data": {
      "text/plain": [
       "Years            int64\n",
       "Total_Target     int64\n",
       "Locations       object\n",
       "dtype: object"
      ]
     },
     "execution_count": 33,
     "metadata": {},
     "output_type": "execute_result"
    }
   ],
   "source": [
    "stpeters_new.dtypes"
   ]
  },
  {
   "cell_type": "code",
   "execution_count": 34,
   "metadata": {
    "collapsed": true
   },
   "outputs": [],
   "source": [
    "df1 = sydenham_new.values\n",
    "df2 = marrickville_new.values\n",
    "df3 = tempe_new.values\n",
    "df4 = stpeters_new.values\n",
    "new_df = np.concatenate((df1,df2,df3,df4),axis=0)\n",
    "new_data = pd.DataFrame(new_df,columns=['Years','Total_Target','Locations'])"
   ]
  },
  {
   "cell_type": "code",
   "execution_count": 35,
   "metadata": {},
   "outputs": [
    {
     "data": {
      "text/html": [
       "<div>\n",
       "<style>\n",
       "    .dataframe thead tr:only-child th {\n",
       "        text-align: right;\n",
       "    }\n",
       "\n",
       "    .dataframe thead th {\n",
       "        text-align: left;\n",
       "    }\n",
       "\n",
       "    .dataframe tbody tr th {\n",
       "        vertical-align: top;\n",
       "    }\n",
       "</style>\n",
       "<table border=\"1\" class=\"dataframe\">\n",
       "  <thead>\n",
       "    <tr style=\"text-align: right;\">\n",
       "      <th></th>\n",
       "      <th>Years</th>\n",
       "      <th>Total_Target</th>\n",
       "      <th>Locations</th>\n",
       "    </tr>\n",
       "  </thead>\n",
       "  <tbody>\n",
       "    <tr>\n",
       "      <th>0</th>\n",
       "      <td>2006</td>\n",
       "      <td>557</td>\n",
       "      <td>Sydenham</td>\n",
       "    </tr>\n",
       "    <tr>\n",
       "      <th>40</th>\n",
       "      <td>2006</td>\n",
       "      <td>1834</td>\n",
       "      <td>Tempe</td>\n",
       "    </tr>\n",
       "    <tr>\n",
       "      <th>20</th>\n",
       "      <td>2006</td>\n",
       "      <td>13770</td>\n",
       "      <td>Marrickville</td>\n",
       "    </tr>\n",
       "    <tr>\n",
       "      <th>60</th>\n",
       "      <td>2006</td>\n",
       "      <td>1576</td>\n",
       "      <td>St Peters</td>\n",
       "    </tr>\n",
       "    <tr>\n",
       "      <th>1</th>\n",
       "      <td>2007</td>\n",
       "      <td>578</td>\n",
       "      <td>Sydenham</td>\n",
       "    </tr>\n",
       "  </tbody>\n",
       "</table>\n",
       "</div>"
      ],
      "text/plain": [
       "   Years Total_Target     Locations\n",
       "0   2006          557      Sydenham\n",
       "40  2006         1834         Tempe\n",
       "20  2006        13770  Marrickville\n",
       "60  2006         1576     St Peters\n",
       "1   2007          578      Sydenham"
      ]
     },
     "execution_count": 35,
     "metadata": {},
     "output_type": "execute_result"
    }
   ],
   "source": [
    "new_data.sort_values('Years').head()"
   ]
  },
  {
   "cell_type": "code",
   "execution_count": 36,
   "metadata": {
    "collapsed": true
   },
   "outputs": [],
   "source": [
    "new_data.index = new_data.Years\n",
    "new_data.drop('Years',axis=1,inplace=True)"
   ]
  },
  {
   "cell_type": "code",
   "execution_count": 37,
   "metadata": {
    "collapsed": true
   },
   "outputs": [],
   "source": [
    "new_data.to_csv('New_data.csv')"
   ]
  },
  {
   "cell_type": "code",
   "execution_count": 38,
   "metadata": {},
   "outputs": [
    {
     "data": {
      "text/html": [
       "<div class='tableauPlaceholder' id='viz1516761741858' style='position: relative'><noscript><a href='#'><img alt='Dashboard 1 ' src='https:&#47;&#47;public.tableau.com&#47;static&#47;images&#47;Fi&#47;FinalPrediction&#47;Dashboard1&#47;1_rss.png' style='border: none' /></a></noscript><object class='tableauViz'  style='display:none;'><param name='host_url' value='https%3A%2F%2Fpublic.tableau.com%2F' /> <param name='embed_code_version' value='3' /> <param name='site_root' value='' /><param name='name' value='FinalPrediction&#47;Dashboard1' /><param name='tabs' value='no' /><param name='toolbar' value='yes' /><param name='static_image' value='https:&#47;&#47;public.tableau.com&#47;static&#47;images&#47;Fi&#47;FinalPrediction&#47;Dashboard1&#47;1.png' /> <param name='animate_transition' value='yes' /><param name='display_static_image' value='yes' /><param name='display_spinner' value='yes' /><param name='display_overlay' value='yes' /><param name='display_count' value='yes' /><param name='filter' value='publish=yes' /></object></div>                <script type='text/javascript'>                    var divElement = document.getElementById('viz1516761741858');                    var vizElement = divElement.getElementsByTagName('object')[0];                    vizElement.style.width='1000px';vizElement.style.height='827px';                    var scriptElement = document.createElement('script');                    scriptElement.src = 'https://public.tableau.com/javascripts/api/viz_v1.js';                    vizElement.parentNode.insertBefore(scriptElement, vizElement);                </script>"
      ],
      "text/plain": [
       "<IPython.core.display.HTML object>"
      ]
     },
     "metadata": {},
     "output_type": "display_data"
    }
   ],
   "source": [
    "%%HTML\n",
    "<div class='tableauPlaceholder' id='viz1516761741858' style='position: relative'><noscript><a href='#'><img alt='Dashboard 1 ' src='https:&#47;&#47;public.tableau.com&#47;static&#47;images&#47;Fi&#47;FinalPrediction&#47;Dashboard1&#47;1_rss.png' style='border: none' /></a></noscript><object class='tableauViz'  style='display:none;'><param name='host_url' value='https%3A%2F%2Fpublic.tableau.com%2F' /> <param name='embed_code_version' value='3' /> <param name='site_root' value='' /><param name='name' value='FinalPrediction&#47;Dashboard1' /><param name='tabs' value='no' /><param name='toolbar' value='yes' /><param name='static_image' value='https:&#47;&#47;public.tableau.com&#47;static&#47;images&#47;Fi&#47;FinalPrediction&#47;Dashboard1&#47;1.png' /> <param name='animate_transition' value='yes' /><param name='display_static_image' value='yes' /><param name='display_spinner' value='yes' /><param name='display_overlay' value='yes' /><param name='display_count' value='yes' /><param name='filter' value='publish=yes' /></object></div>                <script type='text/javascript'>                    var divElement = document.getElementById('viz1516761741858');                    var vizElement = divElement.getElementsByTagName('object')[0];                    vizElement.style.width='1000px';vizElement.style.height='827px';                    var scriptElement = document.createElement('script');                    scriptElement.src = 'https://public.tableau.com/javascripts/api/viz_v1.js';                    vizElement.parentNode.insertBefore(scriptElement, vizElement);                </script>"
   ]
  },
  {
   "cell_type": "markdown",
   "metadata": {},
   "source": [
    "### Total Target per year"
   ]
  },
  {
   "cell_type": "code",
   "execution_count": 39,
   "metadata": {},
   "outputs": [
    {
     "data": {
      "text/html": [
       "<div>\n",
       "<style>\n",
       "    .dataframe thead tr:only-child th {\n",
       "        text-align: right;\n",
       "    }\n",
       "\n",
       "    .dataframe thead th {\n",
       "        text-align: left;\n",
       "    }\n",
       "\n",
       "    .dataframe tbody tr th {\n",
       "        vertical-align: top;\n",
       "    }\n",
       "</style>\n",
       "<table border=\"1\" class=\"dataframe\">\n",
       "  <thead>\n",
       "    <tr style=\"text-align: right;\">\n",
       "      <th></th>\n",
       "      <th>Years</th>\n",
       "      <th>Total_Target</th>\n",
       "      <th>Locations</th>\n",
       "    </tr>\n",
       "  </thead>\n",
       "  <tbody>\n",
       "    <tr>\n",
       "      <th>0</th>\n",
       "      <td>2006</td>\n",
       "      <td>557</td>\n",
       "      <td>Sydenham</td>\n",
       "    </tr>\n",
       "    <tr>\n",
       "      <th>1</th>\n",
       "      <td>2007</td>\n",
       "      <td>578</td>\n",
       "      <td>Sydenham</td>\n",
       "    </tr>\n",
       "    <tr>\n",
       "      <th>2</th>\n",
       "      <td>2008</td>\n",
       "      <td>599</td>\n",
       "      <td>Sydenham</td>\n",
       "    </tr>\n",
       "    <tr>\n",
       "      <th>3</th>\n",
       "      <td>2009</td>\n",
       "      <td>620</td>\n",
       "      <td>Sydenham</td>\n",
       "    </tr>\n",
       "    <tr>\n",
       "      <th>4</th>\n",
       "      <td>2010</td>\n",
       "      <td>641</td>\n",
       "      <td>Sydenham</td>\n",
       "    </tr>\n",
       "  </tbody>\n",
       "</table>\n",
       "</div>"
      ],
      "text/plain": [
       "   Years  Total_Target Locations\n",
       "0   2006           557  Sydenham\n",
       "1   2007           578  Sydenham\n",
       "2   2008           599  Sydenham\n",
       "3   2009           620  Sydenham\n",
       "4   2010           641  Sydenham"
      ]
     },
     "execution_count": 39,
     "metadata": {},
     "output_type": "execute_result"
    }
   ],
   "source": [
    "df = pd.read_csv('New_data.csv')\n",
    "df.dropna(inplace=True)\n",
    "df.head()"
   ]
  },
  {
   "cell_type": "code",
   "execution_count": 40,
   "metadata": {
    "collapsed": true
   },
   "outputs": [],
   "source": [
    "totals = pd.DataFrame()"
   ]
  },
  {
   "cell_type": "code",
   "execution_count": 41,
   "metadata": {},
   "outputs": [
    {
     "data": {
      "text/plain": [
       "array([2006, 2007, 2008, 2009, 2010, 2011, 2012, 2013, 2014, 2015, 2016,\n",
       "       2017, 2018, 2019, 2020, 2021, 2022, 2023, 2024, 2025])"
      ]
     },
     "execution_count": 41,
     "metadata": {},
     "output_type": "execute_result"
    }
   ],
   "source": [
    "df.Years.unique()"
   ]
  },
  {
   "cell_type": "code",
   "execution_count": 42,
   "metadata": {
    "collapsed": true
   },
   "outputs": [],
   "source": [
    "tot = []\n",
    "yr = []\n",
    "for i in df.Years.unique():\n",
    "    tot.append(df[df.Years.values==i].Total_Target.values.sum())\n",
    "    yr.append(i)"
   ]
  },
  {
   "cell_type": "code",
   "execution_count": 43,
   "metadata": {
    "collapsed": true
   },
   "outputs": [],
   "source": [
    "totals['Year'] = yr\n",
    "totals['Totals'] = tot"
   ]
  },
  {
   "cell_type": "code",
   "execution_count": 46,
   "metadata": {},
   "outputs": [
    {
     "data": {
      "text/html": [
       "<div>\n",
       "<style>\n",
       "    .dataframe thead tr:only-child th {\n",
       "        text-align: right;\n",
       "    }\n",
       "\n",
       "    .dataframe thead th {\n",
       "        text-align: left;\n",
       "    }\n",
       "\n",
       "    .dataframe tbody tr th {\n",
       "        vertical-align: top;\n",
       "    }\n",
       "</style>\n",
       "<table border=\"1\" class=\"dataframe\">\n",
       "  <thead>\n",
       "    <tr style=\"text-align: right;\">\n",
       "      <th></th>\n",
       "      <th>Year</th>\n",
       "      <th>Totals</th>\n",
       "    </tr>\n",
       "  </thead>\n",
       "  <tbody>\n",
       "    <tr>\n",
       "      <th>0</th>\n",
       "      <td>2006</td>\n",
       "      <td>17737</td>\n",
       "    </tr>\n",
       "    <tr>\n",
       "      <th>1</th>\n",
       "      <td>2007</td>\n",
       "      <td>18269</td>\n",
       "    </tr>\n",
       "    <tr>\n",
       "      <th>2</th>\n",
       "      <td>2008</td>\n",
       "      <td>18802</td>\n",
       "    </tr>\n",
       "    <tr>\n",
       "      <th>3</th>\n",
       "      <td>2009</td>\n",
       "      <td>19338</td>\n",
       "    </tr>\n",
       "    <tr>\n",
       "      <th>4</th>\n",
       "      <td>2010</td>\n",
       "      <td>19871</td>\n",
       "    </tr>\n",
       "    <tr>\n",
       "      <th>5</th>\n",
       "      <td>2011</td>\n",
       "      <td>20407</td>\n",
       "    </tr>\n",
       "    <tr>\n",
       "      <th>6</th>\n",
       "      <td>2012</td>\n",
       "      <td>21256</td>\n",
       "    </tr>\n",
       "    <tr>\n",
       "      <th>7</th>\n",
       "      <td>2013</td>\n",
       "      <td>22108</td>\n",
       "    </tr>\n",
       "    <tr>\n",
       "      <th>8</th>\n",
       "      <td>2014</td>\n",
       "      <td>22958</td>\n",
       "    </tr>\n",
       "    <tr>\n",
       "      <th>9</th>\n",
       "      <td>2015</td>\n",
       "      <td>23808</td>\n",
       "    </tr>\n",
       "    <tr>\n",
       "      <th>10</th>\n",
       "      <td>2016</td>\n",
       "      <td>24661</td>\n",
       "    </tr>\n",
       "    <tr>\n",
       "      <th>11</th>\n",
       "      <td>2017</td>\n",
       "      <td>24991</td>\n",
       "    </tr>\n",
       "    <tr>\n",
       "      <th>12</th>\n",
       "      <td>2018</td>\n",
       "      <td>25684</td>\n",
       "    </tr>\n",
       "    <tr>\n",
       "      <th>13</th>\n",
       "      <td>2019</td>\n",
       "      <td>26376</td>\n",
       "    </tr>\n",
       "    <tr>\n",
       "      <th>14</th>\n",
       "      <td>2020</td>\n",
       "      <td>27069</td>\n",
       "    </tr>\n",
       "    <tr>\n",
       "      <th>15</th>\n",
       "      <td>2021</td>\n",
       "      <td>27763</td>\n",
       "    </tr>\n",
       "    <tr>\n",
       "      <th>16</th>\n",
       "      <td>2022</td>\n",
       "      <td>28454</td>\n",
       "    </tr>\n",
       "    <tr>\n",
       "      <th>17</th>\n",
       "      <td>2023</td>\n",
       "      <td>29148</td>\n",
       "    </tr>\n",
       "    <tr>\n",
       "      <th>18</th>\n",
       "      <td>2024</td>\n",
       "      <td>29840</td>\n",
       "    </tr>\n",
       "    <tr>\n",
       "      <th>19</th>\n",
       "      <td>2025</td>\n",
       "      <td>30532</td>\n",
       "    </tr>\n",
       "  </tbody>\n",
       "</table>\n",
       "</div>"
      ],
      "text/plain": [
       "    Year  Totals\n",
       "0   2006   17737\n",
       "1   2007   18269\n",
       "2   2008   18802\n",
       "3   2009   19338\n",
       "4   2010   19871\n",
       "5   2011   20407\n",
       "6   2012   21256\n",
       "7   2013   22108\n",
       "8   2014   22958\n",
       "9   2015   23808\n",
       "10  2016   24661\n",
       "11  2017   24991\n",
       "12  2018   25684\n",
       "13  2019   26376\n",
       "14  2020   27069\n",
       "15  2021   27763\n",
       "16  2022   28454\n",
       "17  2023   29148\n",
       "18  2024   29840\n",
       "19  2025   30532"
      ]
     },
     "execution_count": 46,
     "metadata": {},
     "output_type": "execute_result"
    }
   ],
   "source": [
    "totals"
   ]
  },
  {
   "cell_type": "code",
   "execution_count": 45,
   "metadata": {
    "collapsed": true
   },
   "outputs": [],
   "source": [
    "totals.to_csv('Total_Targets.csv')"
   ]
  },
  {
   "cell_type": "markdown",
   "metadata": {},
   "source": [
    "<a id=\"summary\"></a>[Top](#overview)\n",
    "# 6. Summary  \n",
    "--- "
   ]
  },
  {
   "cell_type": "markdown",
   "metadata": {},
   "source": [
    "<img src=\"totals.png\">"
   ]
  },
  {
   "cell_type": "markdown",
   "metadata": {},
   "source": [
    "Based on this prediction the target cities, mostly will continue growing their population on the next 10  years based on this 99% accuracy of the model. Male & Female aged 60+ have a greater number on this cities, so a marketing strategies that will be benefit them will be a boost.\n",
    "\n",
    "Linear Regression was used in this model although I tried to used Decision Trees and ARIMA but it doesn't worked as the data too small. \n",
    "\n",
    "I decided to make an Sentimental Analysis for additional research that will help the client on his decision making."
   ]
  },
  {
   "cell_type": "markdown",
   "metadata": {
    "collapsed": true
   },
   "source": [
    "<a id=\"sentiment\"></a>[Top](#overview)\n",
    "# Sentiment Analysis  \n",
    "--- "
   ]
  },
  {
   "cell_type": "markdown",
   "metadata": {},
   "source": [
    "I scraped Google Reviews from all of the salons near Sydenham. For the scraping code it is included here as [googleReviewsScraper.py](googleReviewsScraper.py).\n",
    "\n",
    "Based on the reviews I gathered heres are the following I came up with:<br>\n",
    "<br>    [Reviewer's Most Talkabout](#rmt)\n",
    "<br>    [Positive & Negative Reviews](#posneg)\n",
    "<br>    [Visualisation](#vis)\n",
    "<br>    [Topics Modelling](#topic)\n",
    "<br>    [Summary](#sum)"
   ]
  },
  {
   "cell_type": "markdown",
   "metadata": {},
   "source": [
    "### Data Understanding\n",
    "\n",
    "Here are the data gathered for scraping Google Reviews from salons near Sydenham."
   ]
  },
  {
   "cell_type": "code",
   "execution_count": 48,
   "metadata": {},
   "outputs": [
    {
     "data": {
      "text/html": [
       "<div>\n",
       "<style>\n",
       "    .dataframe thead tr:only-child th {\n",
       "        text-align: right;\n",
       "    }\n",
       "\n",
       "    .dataframe thead th {\n",
       "        text-align: left;\n",
       "    }\n",
       "\n",
       "    .dataframe tbody tr th {\n",
       "        vertical-align: top;\n",
       "    }\n",
       "</style>\n",
       "<table border=\"1\" class=\"dataframe\">\n",
       "  <thead>\n",
       "    <tr style=\"text-align: right;\">\n",
       "      <th></th>\n",
       "      <th>Salon_Names</th>\n",
       "      <th>Address</th>\n",
       "      <th>Distance</th>\n",
       "      <th>Websites</th>\n",
       "      <th>Ratings</th>\n",
       "      <th>Schedules</th>\n",
       "      <th>Reviews</th>\n",
       "      <th>Reviewers_Rate</th>\n",
       "    </tr>\n",
       "  </thead>\n",
       "  <tbody>\n",
       "    <tr>\n",
       "      <th>0</th>\n",
       "      <td>Memphis and Co.</td>\n",
       "      <td>100C Sydenham Rd, Marrickville NSW 2204</td>\n",
       "      <td>5.8 km</td>\n",
       "      <td>http://www.memphisandco.com.au/</td>\n",
       "      <td>5.0</td>\n",
       "      <td>Monday Closed\\nTuesday 10am–7pm\\nWednesday 10a...</td>\n",
       "      <td>Tony is a great hairdresser. He's friendly and...</td>\n",
       "      <td>Rated 5.0 out of 5,</td>\n",
       "    </tr>\n",
       "    <tr>\n",
       "      <th>1</th>\n",
       "      <td>Memphis and Co.</td>\n",
       "      <td>100C Sydenham Rd, Marrickville NSW 2204</td>\n",
       "      <td>5.8 km</td>\n",
       "      <td>http://www.memphisandco.com.au/</td>\n",
       "      <td>5.0</td>\n",
       "      <td>Monday Closed\\nTuesday 10am–7pm\\nWednesday 10a...</td>\n",
       "      <td>The best men’s salon in town. Come for the sty...</td>\n",
       "      <td>Rated 5.0 out of 5,</td>\n",
       "    </tr>\n",
       "    <tr>\n",
       "      <th>2</th>\n",
       "      <td>Memphis and Co.</td>\n",
       "      <td>100C Sydenham Rd, Marrickville NSW 2204</td>\n",
       "      <td>5.8 km</td>\n",
       "      <td>http://www.memphisandco.com.au/</td>\n",
       "      <td>5.0</td>\n",
       "      <td>Monday Closed\\nTuesday 10am–7pm\\nWednesday 10a...</td>\n",
       "      <td>Dom is the man. He cuts your hair the way you ...</td>\n",
       "      <td>Rated 5.0 out of 5,</td>\n",
       "    </tr>\n",
       "    <tr>\n",
       "      <th>3</th>\n",
       "      <td>Memphis and Co.</td>\n",
       "      <td>100C Sydenham Rd, Marrickville NSW 2204</td>\n",
       "      <td>5.8 km</td>\n",
       "      <td>http://www.memphisandco.com.au/</td>\n",
       "      <td>5.0</td>\n",
       "      <td>Monday Closed\\nTuesday 10am–7pm\\nWednesday 10a...</td>\n",
       "      <td>I have been a loyal customer here for the past...</td>\n",
       "      <td>Rated 5.0 out of 5,</td>\n",
       "    </tr>\n",
       "    <tr>\n",
       "      <th>4</th>\n",
       "      <td>Memphis and Co.</td>\n",
       "      <td>100C Sydenham Rd, Marrickville NSW 2204</td>\n",
       "      <td>5.8 km</td>\n",
       "      <td>http://www.memphisandco.com.au/</td>\n",
       "      <td>5.0</td>\n",
       "      <td>Monday Closed\\nTuesday 10am–7pm\\nWednesday 10a...</td>\n",
       "      <td>Amazing hair parlour with a great stylist insi...</td>\n",
       "      <td>Rated 5.0 out of 5,</td>\n",
       "    </tr>\n",
       "  </tbody>\n",
       "</table>\n",
       "</div>"
      ],
      "text/plain": [
       "       Salon_Names                                  Address Distance  \\\n",
       "0  Memphis and Co.  100C Sydenham Rd, Marrickville NSW 2204   5.8 km   \n",
       "1  Memphis and Co.  100C Sydenham Rd, Marrickville NSW 2204   5.8 km   \n",
       "2  Memphis and Co.  100C Sydenham Rd, Marrickville NSW 2204   5.8 km   \n",
       "3  Memphis and Co.  100C Sydenham Rd, Marrickville NSW 2204   5.8 km   \n",
       "4  Memphis and Co.  100C Sydenham Rd, Marrickville NSW 2204   5.8 km   \n",
       "\n",
       "                          Websites Ratings  \\\n",
       "0  http://www.memphisandco.com.au/     5.0   \n",
       "1  http://www.memphisandco.com.au/     5.0   \n",
       "2  http://www.memphisandco.com.au/     5.0   \n",
       "3  http://www.memphisandco.com.au/     5.0   \n",
       "4  http://www.memphisandco.com.au/     5.0   \n",
       "\n",
       "                                           Schedules  \\\n",
       "0  Monday Closed\\nTuesday 10am–7pm\\nWednesday 10a...   \n",
       "1  Monday Closed\\nTuesday 10am–7pm\\nWednesday 10a...   \n",
       "2  Monday Closed\\nTuesday 10am–7pm\\nWednesday 10a...   \n",
       "3  Monday Closed\\nTuesday 10am–7pm\\nWednesday 10a...   \n",
       "4  Monday Closed\\nTuesday 10am–7pm\\nWednesday 10a...   \n",
       "\n",
       "                                             Reviews       Reviewers_Rate  \n",
       "0  Tony is a great hairdresser. He's friendly and...  Rated 5.0 out of 5,  \n",
       "1  The best men’s salon in town. Come for the sty...  Rated 5.0 out of 5,  \n",
       "2  Dom is the man. He cuts your hair the way you ...  Rated 5.0 out of 5,  \n",
       "3  I have been a loyal customer here for the past...  Rated 5.0 out of 5,  \n",
       "4  Amazing hair parlour with a great stylist insi...  Rated 5.0 out of 5,  "
      ]
     },
     "execution_count": 48,
     "metadata": {},
     "output_type": "execute_result"
    }
   ],
   "source": [
    "df = pd.read_csv('Reviews.csv')\n",
    "df.drop('Unnamed: 0',axis=1,inplace=True)\n",
    "df.head()"
   ]
  },
  {
   "cell_type": "code",
   "execution_count": 49,
   "metadata": {},
   "outputs": [
    {
     "data": {
      "text/plain": [
       "(413, 8)"
      ]
     },
     "execution_count": 49,
     "metadata": {},
     "output_type": "execute_result"
    }
   ],
   "source": [
    "df.shape"
   ]
  },
  {
   "cell_type": "markdown",
   "metadata": {},
   "source": [
    "<a id=\"rmt\"></a>[Top](#sentiment)\n",
    "## Reviewer's Most Talkabout\n",
    "\n",
    "I want to see whats most reviewer's talk about by including only Reviews and used NLP(Natural Language Processing) to count the frequency of each words."
   ]
  },
  {
   "cell_type": "code",
   "execution_count": 50,
   "metadata": {
    "collapsed": true
   },
   "outputs": [],
   "source": [
    "from gensim.corpora.dictionary import Dictionary\n",
    "from nltk.tokenize import word_tokenize"
   ]
  },
  {
   "cell_type": "code",
   "execution_count": 52,
   "metadata": {},
   "outputs": [],
   "source": [
    "#I put only Reviews in a txt file and load it\n",
    "f = open('Reviews.txt','r')\n",
    "my_documents= f"
   ]
  },
  {
   "cell_type": "code",
   "execution_count": 53,
   "metadata": {
    "collapsed": true
   },
   "outputs": [],
   "source": [
    "#creating tokens from the reviews\n",
    "tokenized_docs = [word_tokenize(doc.lower()) for doc in my_documents]\n",
    "#creating dictionary\n",
    "dictionary = Dictionary(tokenized_docs)\n",
    "#creating corpus\n",
    "corpus = [dictionary.doc2bow(doc) for doc in tokenized_docs]"
   ]
  },
  {
   "cell_type": "code",
   "execution_count": 54,
   "metadata": {
    "collapsed": true
   },
   "outputs": [],
   "source": [
    "#sorting corpus\n",
    "docs = sorted(corpus[0], key=lambda w: w[1], reverse=True)"
   ]
  },
  {
   "cell_type": "code",
   "execution_count": 56,
   "metadata": {},
   "outputs": [
    {
     "data": {
      "text/html": [
       "<div>\n",
       "<style>\n",
       "    .dataframe thead tr:only-child th {\n",
       "        text-align: right;\n",
       "    }\n",
       "\n",
       "    .dataframe thead th {\n",
       "        text-align: left;\n",
       "    }\n",
       "\n",
       "    .dataframe tbody tr th {\n",
       "        vertical-align: top;\n",
       "    }\n",
       "</style>\n",
       "<table border=\"1\" class=\"dataframe\">\n",
       "  <thead>\n",
       "    <tr style=\"text-align: right;\">\n",
       "      <th></th>\n",
       "      <th>Words</th>\n",
       "      <th>Counter</th>\n",
       "    </tr>\n",
       "  </thead>\n",
       "  <tbody>\n",
       "    <tr>\n",
       "      <th>0</th>\n",
       "      <td>hair</td>\n",
       "      <td>140</td>\n",
       "    </tr>\n",
       "    <tr>\n",
       "      <th>1</th>\n",
       "      <td>great</td>\n",
       "      <td>109</td>\n",
       "    </tr>\n",
       "    <tr>\n",
       "      <th>2</th>\n",
       "      <td>service</td>\n",
       "      <td>98</td>\n",
       "    </tr>\n",
       "    <tr>\n",
       "      <th>3</th>\n",
       "      <td>place</td>\n",
       "      <td>82</td>\n",
       "    </tr>\n",
       "    <tr>\n",
       "      <th>4</th>\n",
       "      <td>cut</td>\n",
       "      <td>77</td>\n",
       "    </tr>\n",
       "  </tbody>\n",
       "</table>\n",
       "</div>"
      ],
      "text/plain": [
       "     Words  Counter\n",
       "0     hair      140\n",
       "1    great      109\n",
       "2  service       98\n",
       "3    place       82\n",
       "4      cut       77"
      ]
     },
     "execution_count": 56,
     "metadata": {},
     "output_type": "execute_result"
    }
   ],
   "source": [
    "#create dataframe to store the results\n",
    "wid = []\n",
    "wctr = []\n",
    "for word_id, word_count in docs[:150]:\n",
    "    wid.append(dictionary.get(word_id))\n",
    "    wctr.append(word_count)\n",
    "    \n",
    "word_count = pd.DataFrame()\n",
    "word_count['Words']=wid\n",
    "word_count['Counter']=wctr\n",
    "word_count.head()"
   ]
  },
  {
   "cell_type": "code",
   "execution_count": 57,
   "metadata": {
    "collapsed": true
   },
   "outputs": [],
   "source": [
    "#save it\n",
    "word_count.to_csv('WordCounts.csv',index=False)"
   ]
  },
  {
   "cell_type": "markdown",
   "metadata": {},
   "source": [
    "<a id=\"posneg\"></a>[Top](#sentiment)\n",
    "## Positive & Negative Reviews\n",
    "\n",
    "Here I want to see if a reviews are positive and negatives reviews based on NLP Vader results."
   ]
  },
  {
   "cell_type": "code",
   "execution_count": 58,
   "metadata": {
    "collapsed": true
   },
   "outputs": [],
   "source": [
    "#loading and droping no reviews\n",
    "dataset = pd.read_csv('Reviews.csv')\n",
    "data = dataset['Reviews']\n",
    "data = data[data != 'No Reviews']\n",
    "data = data[data != 'No Review']"
   ]
  },
  {
   "cell_type": "code",
   "execution_count": 59,
   "metadata": {
    "collapsed": true
   },
   "outputs": [],
   "source": [
    "#importing Vader library\n",
    "from nltk.sentiment.vader import SentimentIntensityAnalyzer"
   ]
  },
  {
   "cell_type": "code",
   "execution_count": 60,
   "metadata": {
    "collapsed": true
   },
   "outputs": [],
   "source": [
    "reviews = data.values"
   ]
  },
  {
   "cell_type": "code",
   "execution_count": 62,
   "metadata": {
    "collapsed": true
   },
   "outputs": [],
   "source": [
    "#download vader_lexicon if not available\n",
    "#nltk.download('vader_lexicon')\n",
    "\n",
    "results=[]\n",
    "sentences = []\n",
    "sid = SentimentIntensityAnalyzer()\n",
    "for sentence in reviews:\n",
    "    ss =  sid.polarity_scores(sentence)\n",
    "    results.append(ss)\n",
    "    sentences.append(sentence)"
   ]
  },
  {
   "cell_type": "code",
   "execution_count": 63,
   "metadata": {
    "collapsed": true
   },
   "outputs": [],
   "source": [
    "#create dataframe and save results of positive and negative reviews\n",
    "df_results = pd.DataFrame()\n",
    "pos = []\n",
    "neg=[]\n",
    "\n",
    "for res in results:\n",
    "    neg.append(res['neg'])\n",
    "    pos.append(res['pos'])\n",
    "    \n",
    "df_posneg = pd.DataFrame()\n",
    "df_posneg['Reviews'] = reviews\n",
    "df_posneg['Positive'] = pos\n",
    "df_posneg['Negative'] = neg"
   ]
  },
  {
   "cell_type": "code",
   "execution_count": 65,
   "metadata": {},
   "outputs": [
    {
     "data": {
      "text/html": [
       "<div>\n",
       "<style>\n",
       "    .dataframe thead tr:only-child th {\n",
       "        text-align: right;\n",
       "    }\n",
       "\n",
       "    .dataframe thead th {\n",
       "        text-align: left;\n",
       "    }\n",
       "\n",
       "    .dataframe tbody tr th {\n",
       "        vertical-align: top;\n",
       "    }\n",
       "</style>\n",
       "<table border=\"1\" class=\"dataframe\">\n",
       "  <thead>\n",
       "    <tr style=\"text-align: right;\">\n",
       "      <th></th>\n",
       "      <th>Reviews</th>\n",
       "      <th>Positive</th>\n",
       "      <th>Negative</th>\n",
       "    </tr>\n",
       "  </thead>\n",
       "  <tbody>\n",
       "    <tr>\n",
       "      <th>0</th>\n",
       "      <td>Tony is a great hairdresser. He's friendly and...</td>\n",
       "      <td>0.469</td>\n",
       "      <td>0.069</td>\n",
       "    </tr>\n",
       "    <tr>\n",
       "      <th>1</th>\n",
       "      <td>The best men’s salon in town. Come for the sty...</td>\n",
       "      <td>0.154</td>\n",
       "      <td>0.000</td>\n",
       "    </tr>\n",
       "    <tr>\n",
       "      <th>2</th>\n",
       "      <td>Dom is the man. He cuts your hair the way you ...</td>\n",
       "      <td>0.155</td>\n",
       "      <td>0.089</td>\n",
       "    </tr>\n",
       "    <tr>\n",
       "      <th>3</th>\n",
       "      <td>I have been a loyal customer here for the past...</td>\n",
       "      <td>0.169</td>\n",
       "      <td>0.073</td>\n",
       "    </tr>\n",
       "    <tr>\n",
       "      <th>4</th>\n",
       "      <td>Amazing hair parlour with a great stylist insi...</td>\n",
       "      <td>0.441</td>\n",
       "      <td>0.000</td>\n",
       "    </tr>\n",
       "  </tbody>\n",
       "</table>\n",
       "</div>"
      ],
      "text/plain": [
       "                                             Reviews  Positive  Negative\n",
       "0  Tony is a great hairdresser. He's friendly and...     0.469     0.069\n",
       "1  The best men’s salon in town. Come for the sty...     0.154     0.000\n",
       "2  Dom is the man. He cuts your hair the way you ...     0.155     0.089\n",
       "3  I have been a loyal customer here for the past...     0.169     0.073\n",
       "4  Amazing hair parlour with a great stylist insi...     0.441     0.000"
      ]
     },
     "execution_count": 65,
     "metadata": {},
     "output_type": "execute_result"
    }
   ],
   "source": [
    "df_posneg.head()"
   ]
  },
  {
   "cell_type": "code",
   "execution_count": 64,
   "metadata": {
    "collapsed": true
   },
   "outputs": [],
   "source": [
    "#save it\n",
    "df_posneg.to_csv('PosNegReviews3.csv',index=False)"
   ]
  },
  {
   "cell_type": "markdown",
   "metadata": {},
   "source": [
    "<a id=\"vis\"></a>[Top](#sentiment)\n",
    "### Visualisation \n",
    "\n",
    "With this visualisation the client can make up on some ideas on what mostly reviewers wants in a hairdressing salon."
   ]
  },
  {
   "cell_type": "code",
   "execution_count": 66,
   "metadata": {},
   "outputs": [
    {
     "data": {
      "text/html": [
       "<div class='tableauPlaceholder' id='viz1517798423005' style='position: relative'><noscript><a href='#'><img alt='Dashboard 1 ' src='https:&#47;&#47;public.tableau.com&#47;static&#47;images&#47;6P&#47;6PZ4WSTSD&#47;1_rss.png' style='border: none' /></a></noscript><object class='tableauViz'  style='display:none;'><param name='host_url' value='https%3A%2F%2Fpublic.tableau.com%2F' /> <param name='embed_code_version' value='3' /> <param name='path' value='shared&#47;6PZ4WSTSD' /> <param name='toolbar' value='yes' /><param name='static_image' value='https:&#47;&#47;public.tableau.com&#47;static&#47;images&#47;6P&#47;6PZ4WSTSD&#47;1.png' /> <param name='animate_transition' value='yes' /><param name='display_static_image' value='yes' /><param name='display_spinner' value='yes' /><param name='display_overlay' value='yes' /><param name='display_count' value='yes' /></object></div>                <script type='text/javascript'>                    var divElement = document.getElementById('viz1517798423005');                    var vizElement = divElement.getElementsByTagName('object')[0];                    vizElement.style.width='1000px';vizElement.style.height='827px';                    var scriptElement = document.createElement('script');                    scriptElement.src = 'https://public.tableau.com/javascripts/api/viz_v1.js';                    vizElement.parentNode.insertBefore(scriptElement, vizElement);                </script>"
      ],
      "text/plain": [
       "<IPython.core.display.HTML object>"
      ]
     },
     "metadata": {},
     "output_type": "display_data"
    }
   ],
   "source": [
    "%%HTML\n",
    "<div class='tableauPlaceholder' id='viz1517798423005' style='position: relative'><noscript><a href='#'><img alt='Dashboard 1 ' src='https:&#47;&#47;public.tableau.com&#47;static&#47;images&#47;6P&#47;6PZ4WSTSD&#47;1_rss.png' style='border: none' /></a></noscript><object class='tableauViz'  style='display:none;'><param name='host_url' value='https%3A%2F%2Fpublic.tableau.com%2F' /> <param name='embed_code_version' value='3' /> <param name='path' value='shared&#47;6PZ4WSTSD' /> <param name='toolbar' value='yes' /><param name='static_image' value='https:&#47;&#47;public.tableau.com&#47;static&#47;images&#47;6P&#47;6PZ4WSTSD&#47;1.png' /> <param name='animate_transition' value='yes' /><param name='display_static_image' value='yes' /><param name='display_spinner' value='yes' /><param name='display_overlay' value='yes' /><param name='display_count' value='yes' /></object></div>                <script type='text/javascript'>                    var divElement = document.getElementById('viz1517798423005');                    var vizElement = divElement.getElementsByTagName('object')[0];                    vizElement.style.width='1000px';vizElement.style.height='827px';                    var scriptElement = document.createElement('script');                    scriptElement.src = 'https://public.tableau.com/javascripts/api/viz_v1.js';                    vizElement.parentNode.insertBefore(scriptElement, vizElement);                </script>"
   ]
  },
  {
   "cell_type": "markdown",
   "metadata": {},
   "source": [
    " <a id=\"topic\"></a>[Top](#sentiment)\n",
    "## Topics Modelling\n",
    "\n",
    "I decided to use LDA(Latent Dirichlet allocation) to look for those possible topics from the reviewers."
   ]
  },
  {
   "cell_type": "code",
   "execution_count": 68,
   "metadata": {
    "collapsed": true
   },
   "outputs": [],
   "source": [
    "#loading gensim's lda\n",
    "from gensim import corpora\n",
    "from gensim.models.ldamodel import LdaModel"
   ]
  },
  {
   "cell_type": "code",
   "execution_count": 69,
   "metadata": {
    "collapsed": true
   },
   "outputs": [],
   "source": [
    "#loading reviews from txt file\n",
    "with open('Reviews.txt') as f:\n",
    "    documents = f.readlines()"
   ]
  },
  {
   "cell_type": "code",
   "execution_count": 70,
   "metadata": {
    "collapsed": true
   },
   "outputs": [],
   "source": [
    "#splitting all words into one array\n",
    "for doc in documents:\n",
    "    texts = doc.split(' ')"
   ]
  },
  {
   "cell_type": "code",
   "execution_count": 71,
   "metadata": {},
   "outputs": [
    {
     "data": {
      "text/plain": [
       "7368"
      ]
     },
     "execution_count": 71,
     "metadata": {},
     "output_type": "execute_result"
    }
   ],
   "source": [
    "#create tokens\n",
    "tokenized_docs = [word_tokenize(doc) for doc in texts]\n",
    "len(tokenized_docs)"
   ]
  },
  {
   "cell_type": "code",
   "execution_count": 72,
   "metadata": {
    "collapsed": true
   },
   "outputs": [],
   "source": [
    "#createdictionary\n",
    "dictionary = corpora.Dictionary(tokenized_docs)\n",
    "dicts = dictionary.token2id"
   ]
  },
  {
   "cell_type": "code",
   "execution_count": 73,
   "metadata": {
    "collapsed": true
   },
   "outputs": [],
   "source": [
    "#create corpus\n",
    "corpus = [dictionary.doc2bow(doc) for doc in tokenized_docs]"
   ]
  },
  {
   "cell_type": "code",
   "execution_count": null,
   "metadata": {
    "collapsed": true
   },
   "outputs": [],
   "source": [
    "#create LDA model, this will takes time as we have more than 7k\n",
    "lda = LdaModel(corpus=corpus, id2word=dictionary, num_topics=20,passes= 10, eval_every=None)"
   ]
  },
  {
   "cell_type": "code",
   "execution_count": null,
   "metadata": {
    "collapsed": true
   },
   "outputs": [],
   "source": [
    "#save it\n",
    "lda.save('lda.model')"
   ]
  },
  {
   "cell_type": "code",
   "execution_count": 74,
   "metadata": {
    "collapsed": true
   },
   "outputs": [],
   "source": [
    "#loading from the saved file will be quicker to load\n",
    "lda = LdaModel.load('lda.model', mmap='r')"
   ]
  },
  {
   "cell_type": "code",
   "execution_count": null,
   "metadata": {},
   "outputs": [
    {
     "name": "stdout",
     "output_type": "stream",
     "text": [
      "\n",
      "Note: if you're in the IPython notebook, pyLDAvis.show() is not the best command\n",
      "      to use. Consider using pyLDAvis.display(), or pyLDAvis.enable_notebook().\n",
      "      See more information at http://pyLDAvis.github.io/quickstart.html .\n",
      "\n",
      "You must interrupt the kernel to end this command\n",
      "\n",
      "Serving to http://127.0.0.1:8891/    [Ctrl-C to exit]\n"
     ]
    },
    {
     "name": "stderr",
     "output_type": "stream",
     "text": [
      "127.0.0.1 - - [05/Feb/2018 13:54:34] \"GET / HTTP/1.1\" 200 -\n",
      "127.0.0.1 - - [05/Feb/2018 13:54:35] \"GET /LDAvis.css HTTP/1.1\" 200 -\n",
      "127.0.0.1 - - [05/Feb/2018 13:54:35] \"GET /d3.js HTTP/1.1\" 200 -\n",
      "127.0.0.1 - - [05/Feb/2018 13:54:35] \"GET /LDAvis.js HTTP/1.1\" 200 -\n",
      "127.0.0.1 - - [05/Feb/2018 13:54:35] code 404, message Not Found\n",
      "127.0.0.1 - - [05/Feb/2018 13:54:35] \"GET /favicon.ico HTTP/1.1\" 404 -\n"
     ]
    }
   ],
   "source": [
    "#visualising\n",
    "import pyLDAvis.gensim as gensimvis\n",
    "import pyLDAvis\n",
    "vis_data = gensimvis.prepare(lda, corpus, dictionary)\n",
    "pyLDAvis.show(vis_data)"
   ]
  },
  {
   "cell_type": "code",
   "execution_count": null,
   "metadata": {
    "collapsed": true
   },
   "outputs": [],
   "source": [
    "pyLDAvis.display(vis_data)"
   ]
  },
  {
   "cell_type": "markdown",
   "metadata": {},
   "source": [
    "<a id=\"sum\"></a>[Top](#sentiment)\n",
    "## Summary\n",
    "\n",
    "<b>Mostly Talkabout</b>\n",
    "        - the services are the most talkabout, so by making sure to have a good services from the salon will have a good boost for the business.\n",
    "        \n",
    "<b>Positive & Negative Reviews</b>\n",
    "        - mostly of the positive and negative reviews are for the hairdresser's performance. We can say that having a really good hairdresser to your salon will have a huge impact on the business.\n",
    "        \n",
    "<b>Topic Modelling</b>\n",
    "        - Topic 1 mostly about the services which is I am not surprise as customers always going to look up on hows the services, Topic 2 hair treatments is mostly mentioned, so having a good quality of hair treatments to be use in the salon is also a plus. Topic 3 nails was the topic so probably aside from having a haircut service on the salon add some extra services for nails like pedicure and manicure."
   ]
  },
  {
   "cell_type": "code",
   "execution_count": null,
   "metadata": {
    "collapsed": true
   },
   "outputs": [],
   "source": []
  }
 ],
 "metadata": {
  "kernelspec": {
   "display_name": "Python 3",
   "language": "python",
   "name": "python3"
  },
  "language_info": {
   "codemirror_mode": {
    "name": "ipython",
    "version": 3
   },
   "file_extension": ".py",
   "mimetype": "text/x-python",
   "name": "python",
   "nbconvert_exporter": "python",
   "pygments_lexer": "ipython3",
   "version": "3.6.3"
  }
 },
 "nbformat": 4,
 "nbformat_minor": 2
}
